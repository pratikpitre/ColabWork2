{
  "nbformat": 4,
  "nbformat_minor": 0,
  "metadata": {
    "colab": {
      "name": "Copy of Colab_trial1.ipynb",
      "provenance": [],
      "authorship_tag": "ABX9TyPlgEm2EqEZuRYtqfHPHByE",
      "include_colab_link": true
    },
    "kernelspec": {
      "name": "python3",
      "display_name": "Python 3"
    }
  },
  "cells": [
    {
      "cell_type": "markdown",
      "metadata": {
        "id": "view-in-github",
        "colab_type": "text"
      },
      "source": [
        "<a href=\"https://colab.research.google.com/github/pratikpitre/ColabWork2/blob/master/Copy_of_Colab_trial1.ipynb\" target=\"_parent\"><img src=\"https://colab.research.google.com/assets/colab-badge.svg\" alt=\"Open In Colab\"/></a>"
      ]
    },
    {
      "cell_type": "code",
      "metadata": {
        "id": "aY6pbxAiUAfp",
        "colab_type": "code",
        "colab": {
          "base_uri": "https://localhost:8080/",
          "height": 34
        },
        "outputId": "a705ead9-5879-4268-f543-7d311a9ba2db"
      },
      "source": [
        "import time\n",
        "print(time.ctime())"
      ],
      "execution_count": 1,
      "outputs": [
        {
          "output_type": "stream",
          "text": [
            "Sun Jul  5 12:10:49 2020\n"
          ],
          "name": "stdout"
        }
      ]
    },
    {
      "cell_type": "code",
      "metadata": {
        "id": "EvrXMQlTUShD",
        "colab_type": "code",
        "colab": {
          "base_uri": "https://localhost:8080/",
          "height": 34
        },
        "outputId": "8264366f-f2a0-44c9-85ac-de8218f03b33"
      },
      "source": [
        "time.sleep(5)\n",
        "print(time.ctime())"
      ],
      "execution_count": 2,
      "outputs": [
        {
          "output_type": "stream",
          "text": [
            "Sun Jul  5 12:10:55 2020\n"
          ],
          "name": "stdout"
        }
      ]
    }
  ]
}