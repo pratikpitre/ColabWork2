{
  "nbformat": 4,
  "nbformat_minor": 0,
  "metadata": {
    "colab": {
      "name": "Colab_trial2.ipynb",
      "provenance": [],
      "authorship_tag": "ABX9TyMG8wP3l976wtMYwnUEdDwP",
      "include_colab_link": true
    },
    "kernelspec": {
      "name": "python3",
      "display_name": "Python 3"
    }
  },
  "cells": [
    {
      "cell_type": "markdown",
      "metadata": {
        "id": "view-in-github",
        "colab_type": "text"
      },
      "source": [
        "<a href=\"https://colab.research.google.com/github/pratikpitre/ColabWork2/blob/master/Colab_trial2.ipynb\" target=\"_parent\"><img src=\"https://colab.research.google.com/assets/colab-badge.svg\" alt=\"Open In Colab\"/></a>"
      ]
    },
    {
      "cell_type": "code",
      "metadata": {
        "id": "M5NI5fttZwul",
        "colab_type": "code",
        "colab": {}
      },
      "source": [
        "import torch"
      ],
      "execution_count": 1,
      "outputs": []
    },
    {
      "cell_type": "code",
      "metadata": {
        "id": "kHdYWf4ZZ0pu",
        "colab_type": "code",
        "colab": {}
      },
      "source": [
        "Tensor = torch."
      ],
      "execution_count": null,
      "outputs": []
    }
  ]
}